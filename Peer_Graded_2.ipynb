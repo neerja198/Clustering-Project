{
 "cells": [
  {
   "cell_type": "markdown",
   "metadata": {
    "collapsed": true
   },
   "source": [
    "Use the Notebook to build the code to scrape the following Wikipedia page, https://en.wikipedia.org/wiki/List_of_postal_codes_of_Canada:_M, in order to obtain the data that is in the table of postal codes and to transform the data into a pandas dataframe like the one shown below:"
   ]
  },
  {
   "cell_type": "code",
   "execution_count": 2,
   "metadata": {},
   "outputs": [],
   "source": [
    "import pandas as pd\n",
    "import numpy as np\n"
   ]
  },
  {
   "cell_type": "code",
   "execution_count": 17,
   "metadata": {},
   "outputs": [
    {
     "data": {
      "text/plain": [
       "(  Postal Code   Latitude  Longitude\n",
       " 0         M1B  43.806686 -79.194353\n",
       " 1         M1C  43.784535 -79.160497\n",
       " 2         M1E  43.763573 -79.188711\n",
       " 3         M1G  43.770992 -79.216917\n",
       " 4         M1H  43.773136 -79.239476, (103, 3))"
      ]
     },
     "execution_count": 17,
     "metadata": {},
     "output_type": "execute_result"
    }
   ],
   "source": [
    "!wget -q -O 'Geospatial_data.csv' http://cocl.us/Geospatial_data\n",
    "\n",
    "df = pd.read_csv(\"Geospatial_data.csv\")\n",
    "df.head(), df.shape"
   ]
  },
  {
   "cell_type": "code",
   "execution_count": 18,
   "metadata": {},
   "outputs": [
    {
     "data": {
      "text/plain": [
       "(  PostalCode      Borough                          Neighborhood\n",
       " 0        M1B  Scarborough                         Rouge,Malvern\n",
       " 1        M1C  Scarborough  Highland Creek,Rouge Hill,Port Union\n",
       " 2        M1E  Scarborough       Guildwood,Morningside,West Hill\n",
       " 3        M1G  Scarborough                                Woburn\n",
       " 4        M1H  Scarborough                             Cedarbrae, (103, 3))"
      ]
     },
     "execution_count": 18,
     "metadata": {},
     "output_type": "execute_result"
    }
   ],
   "source": [
    "data_csv = \"PostalCodes_peer3.csv\"\n",
    "PostalCodes = pd.read_csv(data_csv)\n",
    "PostalCodes.head(), PostalCodes.shape"
   ]
  },
  {
   "cell_type": "code",
   "execution_count": 19,
   "metadata": {},
   "outputs": [],
   "source": [
    "Canda_Postal=PostalCodes.join(df)"
   ]
  },
  {
   "cell_type": "code",
   "execution_count": 20,
   "metadata": {},
   "outputs": [],
   "source": [
    "Canda_Postal.drop(['Postal Code'], axis=1, inplace=True)"
   ]
  },
  {
   "cell_type": "code",
   "execution_count": 21,
   "metadata": {},
   "outputs": [
    {
     "data": {
      "text/plain": [
       "(  PostalCode      Borough                          Neighborhood   Latitude  \\\n",
       " 0        M1B  Scarborough                         Rouge,Malvern  43.806686   \n",
       " 1        M1C  Scarborough  Highland Creek,Rouge Hill,Port Union  43.784535   \n",
       " 2        M1E  Scarborough       Guildwood,Morningside,West Hill  43.763573   \n",
       " 3        M1G  Scarborough                                Woburn  43.770992   \n",
       " 4        M1H  Scarborough                             Cedarbrae  43.773136   \n",
       " \n",
       "    Longitude  \n",
       " 0 -79.194353  \n",
       " 1 -79.160497  \n",
       " 2 -79.188711  \n",
       " 3 -79.216917  \n",
       " 4 -79.239476  , (103, 5))"
      ]
     },
     "execution_count": 21,
     "metadata": {},
     "output_type": "execute_result"
    }
   ],
   "source": [
    "Canda_Postal.head(), Canda_Postal.shape"
   ]
  },
  {
   "cell_type": "code",
   "execution_count": 22,
   "metadata": {},
   "outputs": [],
   "source": [
    "Canda_Postal.to_csv('PostalCodes_peer3_part2',index=False)"
   ]
  },
  {
   "cell_type": "code",
   "execution_count": null,
   "metadata": {},
   "outputs": [],
   "source": []
  },
  {
   "cell_type": "code",
   "execution_count": null,
   "metadata": {},
   "outputs": [],
   "source": []
  },
  {
   "cell_type": "code",
   "execution_count": null,
   "metadata": {},
   "outputs": [],
   "source": []
  },
  {
   "cell_type": "code",
   "execution_count": null,
   "metadata": {},
   "outputs": [],
   "source": []
  },
  {
   "cell_type": "code",
   "execution_count": null,
   "metadata": {},
   "outputs": [],
   "source": []
  },
  {
   "cell_type": "code",
   "execution_count": null,
   "metadata": {},
   "outputs": [],
   "source": []
  },
  {
   "cell_type": "code",
   "execution_count": null,
   "metadata": {},
   "outputs": [],
   "source": []
  }
 ],
 "metadata": {
  "kernelspec": {
   "display_name": "Python 3.6",
   "language": "python",
   "name": "python3"
  },
  "language_info": {
   "codemirror_mode": {
    "name": "ipython",
    "version": 3
   },
   "file_extension": ".py",
   "mimetype": "text/x-python",
   "name": "python",
   "nbconvert_exporter": "python",
   "pygments_lexer": "ipython3",
   "version": "3.6.8"
  }
 },
 "nbformat": 4,
 "nbformat_minor": 1
}
